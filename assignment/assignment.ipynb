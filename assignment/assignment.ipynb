{
  "cells": [
    {
      "cell_type": "markdown",
      "id": "13ad028b-72b7-43ed-aa78-96fd4e518040",
      "metadata": {
        "id": "13ad028b-72b7-43ed-aa78-96fd4e518040"
      },
      "source": [
        "# Assignment: Data Wrangling\n",
        "### `! git clone https://github.com/ds4e/wrangling`\n",
        "### Do Q1 and Q2, and either Q3 or Q4, for a total of 3 questions."
      ]
    },
    {
      "cell_type": "markdown",
      "id": "da879ea7-8aac-48a3-b6c2-daea56d2e072",
      "metadata": {
        "id": "da879ea7-8aac-48a3-b6c2-daea56d2e072"
      },
      "source": [
        "**Q1.** This question provides some practice cleaning variables which have common problems.\n",
        "1. Numeric variable: For `./data/airbnb_hw.csv`, clean the `Price` variable as well as you can, and explain the choices you make. How many missing values do you end up with? (Hint: What happens to the formatting when a price goes over 999 dollars, say from 675 to 1,112?)\n",
        "2. Categorical variable: For the Minnesota police use of for data, `./data/mn_police_use_of_force.csv`, clean the `subject_injury` variable, handling the NA's; this gives a value `Yes` when a person was injured by police, and `No` when no injury occurred. What proportion of the values are missing? Is this a concern? Cross-tabulate your cleaned `subject_injury` variable with the `force_type` variable. Are there any patterns regarding when the data are missing? \n",
        "3. Dummy variable: For the pretrial data covered in the lecture, clean the `WhetherDefendantWasReleasedPretrial` variable as well as you can, and, in particular, replace missing values with `np.nan`.\n",
        "4. Missing values, not at random: For the pretrial data covered in the lecture, clean the `ImposedSentenceAllChargeInContactEvent` variable as well as you can, and explain the choices you make. (Hint: Look at the `SentenceTypeAllChargesAtConvictionInContactEvent` variable.)"
      ]
    },
    {
      "cell_type": "code",
      "execution_count": 10,
      "id": "20369b71",
      "metadata": {},
      "outputs": [
        {
          "name": "stdout",
          "output_type": "stream",
          "text": [
            "Before coercion: \n",
            " count     30478\n",
            "unique      511\n",
            "top         150\n",
            "freq       1481\n",
            "Name: Price, dtype: object \n",
            "\n",
            "After coercion: \n",
            " count    30478.000000\n",
            "mean       163.589737\n",
            "std        197.785454\n",
            "min         10.000000\n",
            "25%         80.000000\n",
            "50%        125.000000\n",
            "75%        195.000000\n",
            "max      10000.000000\n",
            "Name: Price, dtype: float64 \n",
            "\n",
            "Total Missings: \n",
            " 0 \n",
            "\n"
          ]
        }
      ],
      "source": [
        "#1\n",
        "\n",
        "import numpy as np\n",
        "import matplotlib.pyplot as plt\n",
        "import pandas as pd\n",
        "\n",
        "df = pd.read_csv('./data/airbnb_hw.csv', low_memory = False)\n",
        "var = 'Price'\n",
        "\n",
        "\n",
        "# Printing out the type of Price and the results show us that it is not being read by Pandas as a number\n",
        "print('Before coercion: \\n', df[var].describe(),'\\n')\n",
        "# Need to remove the commas for values above 999 so that they can be read as numeric\n",
        "df['Price'] = df['Price'].str.replace(',', '')\n",
        "# Coercing variable to numeric since the price should be a number and creating a missing dummy variable\n",
        "df['Price'] = pd.to_numeric(df['Price'], errors='coerce')\n",
        "df['Price_nan'] = df['Price'].isnull() \n",
        "# After coercion and replacing commas we see there are 0 missing variables\n",
        "print('After coercion: \\n', df['Price'].describe(),'\\n') # Describe the numeric variable\n",
        "print('Total Missings: \\n', sum(df['Price_nan']),'\\n') \n"
      ]
    },
    {
      "cell_type": "code",
      "execution_count": 23,
      "id": "c08257cf",
      "metadata": {},
      "outputs": [
        {
          "name": "stdout",
          "output_type": "stream",
          "text": [
            "Missing values proportion:  0.7619342359767892\n",
            "The proportion is 0.7619 which is pretty concerning because for more than half of the values, there is no record of if there was a subject injury or not.\n",
            "force_type      Baton  Bodily Force  Chemical Irritant  Firearm  \\\n",
            "subject_injury                                                    \n",
            "No                  0          1093                131        2   \n",
            "Unknown             2          7051               1421        0   \n",
            "Yes                 2          1286                 41        0   \n",
            "All                 4          9430               1593        2   \n",
            "\n",
            "force_type      Gun Point Display  Improvised Weapon  Less Lethal  \\\n",
            "subject_injury                                                      \n",
            "No                             33                 34            0   \n",
            "Unknown                        27                 74           87   \n",
            "Yes                            44                 40            0   \n",
            "All                           104                148           87   \n",
            "\n",
            "force_type      Less Lethal Projectile  Maximal Restraint Technique  \\\n",
            "subject_injury                                                        \n",
            "No                                   1                            0   \n",
            "Unknown                              0                          170   \n",
            "Yes                                  2                            0   \n",
            "All                                  3                          170   \n",
            "\n",
            "force_type      Police K9 Bite  Taser    All  \n",
            "subject_injury                                \n",
            "No                           2    150   1446  \n",
            "Unknown                     31    985   9848  \n",
            "Yes                         44    172   1631  \n",
            "All                         77   1307  12925  \n",
            "Some patterns in regards to missing data is that there is a high chance of unknown subject injury when bodily force (7051 cases) and chemical irritants (1421 cases) are used. This could be the case since with these kinds of force it can be hard to see visible injuries sometimes. Another pattern is that there are not any missing values for less lethal projectile and firearm. This makes sense since injury reporting might be required.\n"
          ]
        }
      ],
      "source": [
        "#2\n",
        "\n",
        "df = pd.read_csv('./data/mn_police_use_of_force.csv', low_memory = False)\n",
        "var = 'subject_injury'\n",
        "\n",
        "# Finding what proportion of the values are missing\n",
        "missing_proportion = df['subject_injury'].isna().mean()\n",
        "print('Missing values proportion: ', missing_proportion)\n",
        "print('The proportion is 0.7619 which is pretty concerning because for more than half of the values, there is no record of if there was a subject injury or not.')\n",
        "\n",
        "# To clean and handle the NaN values, we can create a dummy variable called 'subject_injury_missing' that indicates 1 if it is missing and 0 otherwise\n",
        "df[var] = df[var].replace(' ',np.nan)\n",
        "df['subject_injury_missing'] = df['subject_injury'].isna().astype(int)\n",
        "\n",
        "# We can then also fill in the NaN values as 'Unknown' to better help analyze the data and understand what the NaN means in this context\n",
        "df['subject_injury'] = df['subject_injury'].fillna('Unknown')\n",
        "\n",
        "# Cross-tabulation of subject_injury and force_type\n",
        "cross_tab = pd.crosstab(df['subject_injury'], df['force_type'], margins=True)\n",
        "print(cross_tab)\n",
        "\n",
        "print('Some patterns in regards to missing data is that there is a high chance of unknown subject injury when bodily force (7051 cases) and chemical irritants (1421 cases) are used. This could be the case since with these kinds of force it can be hard to see visible injuries sometimes. Another pattern is that there are not any missing values for less lethal projectile and firearm. This makes sense since injury reporting might be required.')\n",
        "\n",
        "#print(df.to_string())\n",
        "\n"
      ]
    },
    {
      "cell_type": "code",
      "execution_count": 41,
      "id": "46f006d4",
      "metadata": {},
      "outputs": [
        {
          "name": "stdout",
          "output_type": "stream",
          "text": [
            "   WhetherDefendantWasReleasedPretrial  Released_Missing\n",
            "0                                  NaN                 1\n",
            "1                                  0.0                 0\n",
            "2                                  0.0                 0\n",
            "3                                  0.0                 0\n",
            "4                                  1.0                 0\n"
          ]
        }
      ],
      "source": [
        "#3\n",
        "\n",
        "url = 'http://www.vcsc.virginia.gov/pretrialdataproject/October%202017%20Cohort_Virginia%20Pretrial%20Data%20Project_Deidentified%20FINAL%20Update_10272021.csv'\n",
        "df = pd.read_csv(url,low_memory=False)\n",
        "\n",
        "# Replacing the missing values 9 with np.nan\n",
        "df['WhetherDefendantWasReleasedPretrial'] = df['WhetherDefendantWasReleasedPretrial'].replace({9: np.nan})\n",
        "\n",
        "# Dummy variable that indicates if there was a missing value (1 if it is missing and 0 otherwise)\n",
        "df['Released_Missing'] = df['WhetherDefendantWasReleasedPretrial'].isna().astype(int)\n",
        "\n",
        "print(df[['WhetherDefendantWasReleasedPretrial', 'Released_Missing']].head())\n"
      ]
    },
    {
      "cell_type": "code",
      "execution_count": 42,
      "id": "c161825a",
      "metadata": {},
      "outputs": [
        {
          "name": "stdout",
          "output_type": "stream",
          "text": [
            "SentenceTypeAllChargesAtConvictionInContactEvent     0     1    2     4    9\n",
            "ImposedSentenceAllChargeInContactEvent                                      \n",
            "False                                             8720  4299  914     0    0\n",
            "True                                                 0     0    0  8779  274\n",
            "SentenceTypeAllChargesAtConvictionInContactEvent     0     1    2     4    9\n",
            "ImposedSentenceAllChargeInContactEvent                                      \n",
            "False                                             8720  4299  914  8779    0\n",
            "True                                                 0     0    0     0  274\n"
          ]
        }
      ],
      "source": [
        "#4\n",
        "\n",
        "# Making the length of a sentence to numeric value or NaN value\n",
        "df['ImposedSentenceAllChargeInContactEvent'] = pd.to_numeric(df['ImposedSentenceAllChargeInContactEvent'], errors='coerce')\n",
        "\n",
        "# Crosstab to analyze the relationship between missing values and sentence type; True means missing values\n",
        "print(pd.crosstab(df['ImposedSentenceAllChargeInContactEvent'].isnull(), df['SentenceTypeAllChargesAtConvictionInContactEvent']))\n",
        "\n",
        "#If the type of sentence is 4 it means the case got dismissed and so the imposed sentence would be 0\n",
        "df['ImposedSentenceAllChargeInContactEvent'] = df['ImposedSentenceAllChargeInContactEvent'].mask(df['SentenceTypeAllChargesAtConvictionInContactEvent'] == 4, 0)\n",
        "#If the type of sentnece is 9 then there was no sentence and so the imposed sentence length is NaN\n",
        "df['ImposedSentenceAllChargeInContactEvent'] = df['ImposedSentenceAllChargeInContactEvent'].mask(df['SentenceTypeAllChargesAtConvictionInContactEvent'] == 9, np.nan)\n",
        "\n",
        "# Crosstab to analyze the relationship between missing values and sentence type with data cleaned\n",
        "print(pd.crosstab(df['ImposedSentenceAllChargeInContactEvent'].isnull(), df['SentenceTypeAllChargesAtConvictionInContactEvent']))\n",
        "\n"
      ]
    },
    {
      "cell_type": "markdown",
      "id": "5a60a44e",
      "metadata": {},
      "source": [
        "**Q2.** Go to https://sharkattackfile.net/ and download their dataset on shark attacks.\n",
        "\n",
        "1. Open the shark attack file using Pandas. It is probably not a csv file, so `read_csv` won't work.\n",
        "2. Drop any columns that do not contain data.\n",
        "3. Clean the year variable. Describe the range of values you see. Filter the rows to focus on attacks since 1940. Are attacks increasing, decreasing, or remaining constant over time?\n",
        "4. Clean the Age variable and make a histogram of the ages of the victims.\n",
        "5. What proportion of victims are male?\n",
        "6. Clean the `Type` variable so it only takes three values: Provoked and Unprovoked and Unknown. What proportion of attacks are unprovoked?\n",
        "7. Clean the `Fatal Y/N` variable so it only takes three values: Y, N, and Unknown.\n",
        "8. Are sharks more likely to launch unprovoked attacks on men or women? Is the attack more or less likely to be fatal when the attack is provoked or unprovoked? Is it more or less likely to be fatal when the victim is male or female? How do you feel about sharks?\n",
        "9. What proportion of attacks appear to be by white sharks? (Hint: `str.split()` makes a vector of text values into a list of lists, split by spaces.)"
      ]
    },
    {
      "cell_type": "code",
      "execution_count": 48,
      "id": "852a6b6f",
      "metadata": {},
      "outputs": [
        {
          "name": "stdout",
          "output_type": "stream",
          "text": [
            "Collecting xlrd\n",
            "  Downloading xlrd-2.0.1-py2.py3-none-any.whl.metadata (3.4 kB)\n",
            "Downloading xlrd-2.0.1-py2.py3-none-any.whl (96 kB)\n",
            "\u001b[2K   \u001b[90m━━━━━━━━━━━━━━━━━━━━━━━━━━━━━━━━━━━━━━━━\u001b[0m \u001b[32m96.5/96.5 kB\u001b[0m \u001b[31m486.8 kB/s\u001b[0m eta \u001b[36m0:00:00\u001b[0ma \u001b[36m0:00:01\u001b[0m\n",
            "\u001b[?25hInstalling collected packages: xlrd\n",
            "Successfully installed xlrd-2.0.1\n",
            "\n",
            "\u001b[1m[\u001b[0m\u001b[34;49mnotice\u001b[0m\u001b[1;39;49m]\u001b[0m\u001b[39;49m A new release of pip is available: \u001b[0m\u001b[31;49m24.0\u001b[0m\u001b[39;49m -> \u001b[0m\u001b[32;49m25.0\u001b[0m\n",
            "\u001b[1m[\u001b[0m\u001b[34;49mnotice\u001b[0m\u001b[1;39;49m]\u001b[0m\u001b[39;49m To update, run: \u001b[0m\u001b[32;49mpip install --upgrade pip\u001b[0m\n"
          ]
        }
      ],
      "source": [
        "!pip install xlrd"
      ]
    },
    {
      "cell_type": "code",
      "execution_count": 79,
      "id": "f990ef6e",
      "metadata": {},
      "outputs": [
        {
          "name": "stdout",
          "output_type": "stream",
          "text": [
            "count    6990.000000\n",
            "mean     1935.018598\n",
            "std       272.082794\n",
            "min         0.000000\n",
            "25%      1947.000000\n",
            "50%      1986.000000\n",
            "75%      2009.000000\n",
            "max      2026.000000\n",
            "Name: Year, dtype: float64\n",
            "The range of values I see are 0-2026.\n",
            "count    5458.000000\n",
            "mean     1991.937156\n",
            "std        24.083712\n",
            "min      1940.000000\n",
            "25%      1969.000000\n",
            "50%      2000.000000\n",
            "75%      2013.000000\n",
            "max      2026.000000\n",
            "Name: Year, dtype: float64\n"
          ]
        },
        {
          "data": {
            "image/png": "[encoded data removed]",
            "text/plain": [
              "<Figure size 640x480 with 1 Axes>"
            ]
          },
          "metadata": {},
          "output_type": "display_data"
        },
        {
          "name": "stdout",
          "output_type": "stream",
          "text": [
            "As per the graph, the attacks are increasing over time.\n"
          ]
        },
        {
          "data": {
            "image/png": "[encoded data removed]",
            "text/plain": [
              "<Figure size 640x480 with 1 Axes>"
            ]
          },
          "metadata": {},
          "output_type": "display_data"
        },
        {
          "name": "stdout",
          "output_type": "stream",
          "text": [
            "Index(['Year', 'Type', 'Country', 'State', 'Location', 'Activity', 'Name',\n",
            "       'Sex', 'Age', 'Injury', 'Fatal Y/N', 'Time', 'Species ', 'Source',\n",
            "       'pdf', 'href formula', 'href', 'Case Number', 'Case Number.1',\n",
            "       'original order', 'Unnamed: 21', 'Unnamed: 22'],\n",
            "      dtype='object')\n",
            "['M' 'F' nan ' M' 'M ' 'lli' 'M x 2' 'N' '.']\n",
            "['male' 'female' nan]\n",
            "Proportion of males is:  0.8032036613272311\n",
            "['Unprovoked' 'Provoked' ' Provoked' 'Questionable' 'Watercraft'\n",
            " 'Sea Disaster' nan '?' 'Unconfirmed' 'Unverified' 'Invalid'\n",
            " 'Under investigation' 'Boat']\n",
            "['Unprovoked' 'Provoked' 'Unknown']\n",
            "Proportion of unprovoked attacks: 0.7369851258581236\n",
            "['N' 'Y' 'F' 'M' nan 'n' 'Nq' 'UNKNOWN' 2017 'Y x 2' ' N' 'N ' 'y']\n",
            "['N' 'Y' 'Unknown']\n",
            "Sex\n",
            "male      0.86557\n",
            "female    0.13443\n",
            "Name: proportion, dtype: float64\n",
            "Fatality rate for Provoked Attacks:\n",
            " Fatal Y/N\n",
            "N          0.953052\n",
            "Y          0.032864\n",
            "Unknown    0.014085\n",
            "Name: proportion, dtype: float64\n",
            "Fatality rate for Unprovoked Attacks:\n",
            " Fatal Y/N\n",
            "N          0.741898\n",
            "Y          0.242965\n",
            "Unknown    0.015137\n",
            "Name: proportion, dtype: float64\n",
            "Fatal Y/N         N   Unknown         Y\n",
            "Sex                                    \n",
            "female     0.760101  0.088384  0.151515\n",
            "male       0.697472  0.081731  0.220798\n",
            "Proportion of attacks by White Sharks: 10.08%\n"
          ]
        }
      ],
      "source": [
        "#1\n",
        "df = pd.read_excel('./data/GSAF5.xls', index_col=0)\n",
        "\n",
        "#2\n",
        "df = df.dropna(axis=1, how='all')\n",
        "\n",
        "#3\n",
        "print(df['Year'].describe())\n",
        "print('The range of values I see are 0-2026.')\n",
        "df_cleaned_year = df[df['Year'] >= 1940]\n",
        "print(df_cleaned_year['Year'].describe())\n",
        "\n",
        "import matplotlib.pyplot as plt\n",
        "df_cleaned_year.groupby('Year').size().plot(kind='line')\n",
        "plt.title('Shark Attacks Over Time')\n",
        "plt.xlabel('Year')\n",
        "plt.ylabel('Number of Attacks')\n",
        "plt.show()\n",
        "\n",
        "print('As per the graph, the attacks are increasing over time.')\n",
        "\n",
        "#4\n",
        "# Turning invalid ages to be NaN\n",
        "df['Age'] = pd.to_numeric(df['Age'], errors='coerce')\n",
        "plt.hist(df['Age'].dropna(), bins=30, edgecolor='black')\n",
        "plt.title('Distribution of Victim Ages')\n",
        "plt.xlabel('Age')\n",
        "plt.ylabel('Frequency')\n",
        "plt.show()\n",
        "\n",
        "#5\n",
        "print(df.columns)\n",
        "print(df['Sex'].unique())\n",
        "# Strip leading and trailing spaces\n",
        "df['Sex'] = df['Sex'].str.strip()\n",
        "# Replace unexpected values with NaN\n",
        "df['Sex'] = df['Sex'].replace(['lli', 'M x 2', 'N', '.'], np.nan)\n",
        "# Standardize values where M means male and F means female\n",
        "df['Sex'] = df['Sex'].replace({'M': 'male', 'F': 'female'})\n",
        "# Checking the cleaned column\n",
        "print(df['Sex'].unique())\n",
        "\n",
        "num_of_males = df['Sex'].str.lower().eq('male').sum()\n",
        "proportion_male = num_of_males / (len(df))\n",
        "print('Proportion of males is: ', proportion_male)\n",
        "\n",
        "\n",
        "#6\n",
        "print(df['Type'].unique())\n",
        "df['Type'] = df['Type'].str.strip()\n",
        "valid_types = ['Unprovoked', 'Provoked']\n",
        "invalid_values = ['Watercraft', 'Sea Disaster', 'Boat', 'nan', '?', 'Unconfirmed', 'Questionable', 'Unverified', 'Invalid', 'Under investigation']\n",
        "df['Type'] = df['Type'].apply(lambda x: x if x in valid_types else 'Unknown')\n",
        "print(df['Type'].unique())\n",
        "\n",
        "# Proportion of unprovoked attacks\n",
        "unprovoked_count = (df['Type'] == 'Unprovoked').sum()\n",
        "total_attacks = len(df)\n",
        "proportion_unprovoked = unprovoked_count / total_attacks\n",
        "print(f\"Proportion of unprovoked attacks: {proportion_unprovoked}\")\n",
        "\n",
        "\n",
        "#7\n",
        "print(df['Fatal Y/N'].unique())\n",
        "# Strip whitespace and convert to uppercase\n",
        "df['Fatal Y/N'] = df['Fatal Y/N'].astype(str).str.strip().str.upper()\n",
        "# Define valid values\n",
        "valid_values = {'Y': 'Y', 'N': 'N', 'NQ': 'Unknown', 'UNKNOWN': 'Unknown', 'Y X 2': 'Y', 'F': 'Unknown', 'M': 'Unknown'}\n",
        "# Apply mapping and replace invalid values with 'Unknown'\n",
        "df['Fatal Y/N'] = df['Fatal Y/N'].replace(valid_values)\n",
        "df['Fatal Y/N'] = df['Fatal Y/N'].apply(lambda x: 'Unknown' if x not in ['Y', 'N'] else x)\n",
        "# Check the cleaned unique values\n",
        "print(df['Fatal Y/N'].unique())\n",
        "\n",
        "\n",
        "\n",
        "#8\n",
        "# Filter only unprovoked attacks\n",
        "unprovoked_attacks = df[df['Type'] == 'Unprovoked']\n",
        "# Count attacks by gender\n",
        "gender_counts = unprovoked_attacks['Sex'].value_counts(normalize=True)\n",
        "print(gender_counts)\n",
        "\n",
        "fatal_provoked = df[df['Type'] == 'Provoked']['Fatal Y/N'].value_counts(normalize=True)\n",
        "fatal_unprovoked = df[df['Type'] == 'Unprovoked']['Fatal Y/N'].value_counts(normalize=True)\n",
        "print(\"Fatality rate for Provoked Attacks:\\n\", fatal_provoked)\n",
        "print(\"Fatality rate for Unprovoked Attacks:\\n\", fatal_unprovoked)\n",
        "\n",
        "fatal_by_gender = df.groupby('Sex')['Fatal Y/N'].value_counts(normalize=True).unstack()\n",
        "print(fatal_by_gender)\n",
        "\n",
        "print(\"Men are more likely to be attacked than women but at the same time it seems that the attacks are usually associated with provoking. This makes me feel better about sharks.\")\n",
        "\n",
        "#9\n",
        "\n",
        "#print(list(df['Species '].unique()))\n",
        "\n",
        "# Convert to string, lowercase, and split into words\n",
        "df['Species '] = df['Species '].astype(str).str.lower().str.split()\n",
        "# Check if \"white\" is anywhere in the species description\n",
        "df['White_Shark'] = df['Species '].apply(lambda x: \"White Shark\" if \"white\" in x else \"Other\")\n",
        "# Calculate the proportion of attacks involving White Sharks\n",
        "white_shark_attacks = (df['White_Shark'] == \"White Shark\").sum()\n",
        "total_attacks = len(df)\n",
        "proportion_white_shark = white_shark_attacks / total_attacks\n",
        "print(f\"Proportion of attacks by White Sharks: {proportion_white_shark:.2%}\")\n",
        "\n",
        "\n"
      ]
    },
    {
      "cell_type": "markdown",
      "id": "5735a4d4-8be8-433a-a351-70eb8002e632",
      "metadata": {
        "id": "5735a4d4-8be8-433a-a351-70eb8002e632"
      },
      "source": [
        "**Q3.** Open the \"tidy_data.pdf\" document in the repo, which is a paper called Tidy Data by Hadley Wickham.\n",
        "\n",
        "  1. Read the abstract. What is this paper about?\n",
        "  2. Read the introduction. What is the \"tidy data standard\" intended to accomplish?\n",
        "  3. Read the intro to section 2. What does this sentence mean: \"Like families, tidy datasets are all alike but every messy dataset is messy in its own way.\" What does this sentence mean: \"For a given dataset, it’s usually easy to figure out what are observations and what are variables, but it is surprisingly difficult to precisely define variables and observations in general.\"\n",
        "  4. Read Section 2.2. How does Wickham define values, variables, and observations?\n",
        "  5. How is \"Tidy Data\" defined in section 2.3?\n",
        "  6. Read the intro to Section 3 and Section 3.1. What are the 5 most common problems with messy datasets? Why are the data in Table 4 messy? What is \"melting\" a dataset?\n",
        "  7. Why, specifically, is table 11 messy but table 12 tidy and \"molten\"?\n",
        "  8. Read Section 6. What is the \"chicken-and-egg\" problem with focusing on tidy data? What does Wickham hope happens in the future with further work on the subject of data wrangling?"
      ]
    },
    {
      "cell_type": "markdown",
      "id": "755a03a5",
      "metadata": {},
      "source": [
        "1. The paper is about data tidying, a part of data cleaning. It is about what tidy data is, its key aspects (such as each variable is its own column), and the advantages of using data tidying tools. The paper also illustrates how useful consistent tools and data strucutures are through a case study and the role data tidying can play.\n",
        "\n",
        "2. The \"tidy data standard\" is intended to accomplish easier data cleaning where you don't need to start from scratch and instead already have a structured dataset and can now focus on data exploration. Also, it is meant to make it the development of data analysis tools easier since most current ones require translation.\n",
        "\n",
        "3. The sentence \"Like families, tidy datasets are all alike but every messy dataset is messy in its own way\" means that every set of data will need to be formatted in its own way because there are so many different possible layouts, values, units, meanings, desired formats, etc. It is not necessary that you can apply a simple formula to all messy datasets and it will be tidy. The sentence \"For a given dataset it's usually easy to figure out what are observations and what are variables, but it is surprisingly difficult to precisely define variables and observations in general\" means that the role of the observations and variables might not be as clear cut when you first see them. It all depends on the person who creates them and the context of the data because they can mean something very specific and not immediately obvious to everyone. Thus it is hard to generalize.\n",
        "\n",
        "4. Wickham defines values as numbers and strings that belong to values and observations, variables as things that contain values that measure the same attribute across units, and observations as containing all values measured on the same unit across attributes.\n",
        "\n",
        "5. \"Tidy Data\" is defined by each variable having a column, each observation forming a row, and each type of observational unit forming a table. It is the standard way of mapping the meaning of the dataset to its structure and depends on how rows, columns, and tables are matched up with observations, variables, and types.\n",
        "\n",
        "6. The 5 most common problems with messy datasets is that column headers are values not variable names, multiple variables are stored in one column, variables are stored in both rows and columns, multiple types of observational units are stored in the same table, and a single observational unit is stored in multiple tables. The data in Table 4 is messy because there need to be better representation of roles in the data sets (variable column needs to be renamed to income and value column needs to be renamed ro freq). This way each column represents a variable and each row represents an observation. Melting a dataset means to turn columns into rows.\n",
        "\n",
        "7. Table 11 is messy because element, which is not variable, has variable names instead of values. For the days listed, those are values not variables. Also for months less than 31 days there will be missing values. Table 12 is tidy and molten because it is melted with colvars id, year, month and the column that contains variable names, element. It has each row representing a single day and there are 2 measured variables (tmax and tmin) while the other ones are fixed.\n",
        "\n",
        "8. The \"chicken and the egg\" problem refers the the issue where there is an interdependence between tidy data and tools and so it is hard to make individual improvements to either of them because they rely on each other and it doesn't enhance the workflow. Thus, it is very easy to get stuck in a place where progress stalls. What Wickham hopes happens in the future is more development on the framework itself to to develop even better data storage strategies and better tools. In addition to tidying he hopes that more tools are developed overall to address other aspects of data cleaning and thus improving data science as a whole."
      ]
    },
    {
      "cell_type": "markdown",
      "id": "649494cd-cfd6-4f80-992a-9994fc19e1d5",
      "metadata": {
        "id": "649494cd-cfd6-4f80-992a-9994fc19e1d5"
      },
      "source": [
        "**Q4.** Many important datasets contain a race variable, typically limited to a handful of values often including Black, White, Asian, Latino, and Indigenous. This question looks at data gathering efforts on this variable by the U.S. Federal government.\n",
        "\n",
        "1. How did the most recent US Census gather data on race?\n",
        "2. Why do we gather these data? What role do these kinds of data play in politics and society? Why does data quality matter?\n",
        "3. Please provide a constructive criticism of how the Census was conducted: What was done well? What do you think was missing? How should future large scale surveys be adjusted to best reflect the diversity of the population? Could some of the Census' good practices be adopted more widely to gather richer and more useful data?\n",
        "4. How did the Census gather data on sex and gender? Please provide a similar constructive criticism of their practices.\n",
        "5. When it comes to cleaning data, what concerns do you have about protected characteristics like sex, gender, sexual identity, or race? What challenges can you imagine arising when there are missing values? What good or bad practices might people adopt, and why?\n",
        "6. Suppose someone invented an algorithm to impute values for protected characteristics like race, gender, sex, or sexuality. What kinds of concerns would you have?"
      ]
    }
  ],
  "metadata": {
    "colab": {
      "provenance": []
    },
    "kernelspec": {
      "display_name": "Python 3 (ipykernel)",
      "language": "python",
      "name": "python3"
    },
    "language_info": {
      "codemirror_mode": {
        "name": "ipython",
        "version": 3
      },
      "file_extension": ".py",
      "mimetype": "text/x-python",
      "name": "python",
      "nbconvert_exporter": "python",
      "pygments_lexer": "ipython3",
      "version": "3.12.1"
    }
  },
  "nbformat": 4,
  "nbformat_minor": 5
}
